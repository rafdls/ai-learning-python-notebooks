{
 "cells": [
  {
   "cell_type": "markdown",
   "id": "6cbbfc63",
   "metadata": {},
   "source": [
    "# Gradio Playground"
   ]
  },
  {
   "cell_type": "markdown",
   "id": "34cc811b",
   "metadata": {},
   "source": [
    "## Install\n",
    "\n",
    "```shell\n",
    "uv add gradio\n",
    "```"
   ]
  },
  {
   "cell_type": "code",
   "execution_count": null,
   "id": "bd8c8493",
   "metadata": {},
   "outputs": [],
   "source": [
    "# Imports\n",
    "\n",
    "import gradio as gr"
   ]
  },
  {
   "cell_type": "code",
   "execution_count": null,
   "id": "f07f9dd6",
   "metadata": {},
   "outputs": [],
   "source": [
    "# Hello world sample\n",
    "# The `interface` function takes in a function, input types, and output types\n",
    "# and creates a web interface for it.\n",
    "\n",
    "def greet(name):\n",
    "    return [\"Hello \" + name + \"!\", f\"Welcome to Gradio {name}!\"]\n",
    "\n",
    "# Input and Output types can be specified as strings or instance of gradio components\n",
    "demo =  gr.Interface(\n",
    "  fn=greet, \n",
    "  inputs=[\"text\"], \n",
    "  outputs=[\"text\", gr.Textbox()],\n",
    "  \n",
    ")\n",
    "\n",
    "demo.launch()"
   ]
  },
  {
   "cell_type": "markdown",
   "id": "302c5bbf",
   "metadata": {},
   "source": [
    "## Input image"
   ]
  },
  {
   "cell_type": "code",
   "execution_count": null,
   "id": "cfcc4bb5",
   "metadata": {},
   "outputs": [],
   "source": [
    "import numpy as np\n",
    "\n",
    "def convert_to_grayscale(input_image):\n",
    "    gray_image = np.array([\n",
    "        [0.2989, 0.5870, 0.1140],\n",
    "        [0.2989, 0.5870, 0.1140],\n",
    "        [0.2989, 0.5870, 0.1140]\n",
    "    ]\n",
    "    )\n",
    "    gray_image = input_image.dot(gray_image.T)\n",
    "    gray_image /= gray_image.max()\n",
    "    return gray_image\n",
    "    \n",
    "image_demo = gr.Interface(\n",
    "    fn=convert_to_grayscale, \n",
    "    inputs=[gr.Image()],\n",
    "    outputs=[\"image\"],\n",
    "    allow_flagging=\"never\",\n",
    "    title=\"Image to Grayscale\",\n",
    "    description=\"Convert an image to grayscale using a simple weighted sum of the RGB channels.\"\n",
    ")\n",
    "\n",
    "image_demo.launch()"
   ]
  }
 ],
 "metadata": {
  "kernelspec": {
   "display_name": "ai-learning-python-notebooks",
   "language": "python",
   "name": "python3"
  },
  "language_info": {
   "codemirror_mode": {
    "name": "ipython",
    "version": 3
   },
   "file_extension": ".py",
   "mimetype": "text/x-python",
   "name": "python",
   "nbconvert_exporter": "python",
   "pygments_lexer": "ipython3",
   "version": "3.12.8"
  }
 },
 "nbformat": 4,
 "nbformat_minor": 5
}
