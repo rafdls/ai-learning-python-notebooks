{
 "cells": [
  {
   "cell_type": "markdown",
   "id": "6cbbfc63",
   "metadata": {},
   "source": [
    "# Gradio Playground"
   ]
  },
  {
   "cell_type": "markdown",
   "id": "34cc811b",
   "metadata": {},
   "source": [
    "## Install\n",
    "\n",
    "```shell\n",
    "uv add gradio\n",
    "```"
   ]
  },
  {
   "cell_type": "code",
   "execution_count": 6,
   "id": "bd8c8493",
   "metadata": {},
   "outputs": [],
   "source": [
    "# Imports\n",
    "\n",
    "import gradio as gr"
   ]
  },
  {
   "cell_type": "code",
   "execution_count": null,
   "id": "f07f9dd6",
   "metadata": {},
   "outputs": [
    {
     "name": "stdout",
     "output_type": "stream",
     "text": [
      "* Running on local URL:  http://127.0.0.1:7862\n",
      "* To create a public link, set `share=True` in `launch()`.\n"
     ]
    },
    {
     "data": {
      "text/html": [
       "<div><iframe src=\"http://127.0.0.1:7862/\" width=\"100%\" height=\"500\" allow=\"autoplay; camera; microphone; clipboard-read; clipboard-write;\" frameborder=\"0\" allowfullscreen></iframe></div>"
      ],
      "text/plain": [
       "<IPython.core.display.HTML object>"
      ]
     },
     "metadata": {},
     "output_type": "display_data"
    },
    {
     "data": {
      "text/plain": []
     },
     "execution_count": 5,
     "metadata": {},
     "output_type": "execute_result"
    },
    {
     "name": "stdout",
     "output_type": "stream",
     "text": [
      "Created dataset file at: .gradio/flagged/dataset1.csv\n"
     ]
    }
   ],
   "source": [
    "# Hello world sample\n",
    "# The `interface` function takes in a function, input types, and output types\n",
    "# and creates a web interface for it.\n",
    "\n",
    "def greet(name):\n",
    "    return f\"Hello {name}!\"\n",
    "\n",
    "demo =  gr.Interface(\n",
    "  fn=greet, \n",
    "  inputs=[\"text\"], \n",
    "  outputs=[\"text\"],\n",
    "  \n",
    ")\n",
    "\n",
    "demo.launch()"
   ]
  }
 ],
 "metadata": {
  "kernelspec": {
   "display_name": "ai-learning-python-notebooks",
   "language": "python",
   "name": "python3"
  },
  "language_info": {
   "codemirror_mode": {
    "name": "ipython",
    "version": 3
   },
   "file_extension": ".py",
   "mimetype": "text/x-python",
   "name": "python",
   "nbconvert_exporter": "python",
   "pygments_lexer": "ipython3",
   "version": "3.12.9"
  }
 },
 "nbformat": 4,
 "nbformat_minor": 5
}
