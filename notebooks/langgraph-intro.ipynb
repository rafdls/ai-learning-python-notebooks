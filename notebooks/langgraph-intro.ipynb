{
 "cells": [
  {
   "cell_type": "markdown",
   "id": "01f22b73",
   "metadata": {},
   "source": [
    "## LangGraph / LangChain "
   ]
  },
  {
   "cell_type": "markdown",
   "id": "634d588a",
   "metadata": {},
   "source": [
    "### Install dependencies\n",
    "\n",
    "```shell\n",
    "uv add langgraph\n",
    "uv add langchain-openai\n",
    "```\n",
    "\n",
    "### Other dependencies\n",
    "```shell\n",
    "uv add typing\n",
    "uv add pydantic\n",
    "```"
   ]
  },
  {
   "cell_type": "code",
   "execution_count": null,
   "id": "f129b0ec",
   "metadata": {},
   "outputs": [],
   "source": [
    "# Imports\n",
    "\n",
    "from langgraph.graph import StateGraph, START, END\n",
    "from langgraph.graph import StateGraph\n",
    "from langchain_openai import ChatOpenAI\n",
    "from IPython.display import Image, display\n",
    "from typing import TypedDict\n",
    "from typing import Annotated\n",
    "from langgraph.graph.message import add_messages "
   ]
  },
  {
   "cell_type": "markdown",
   "id": "ebd25e68",
   "metadata": {},
   "source": [
    "### Try out ChatOpenAI LLM from LangChain"
   ]
  },
  {
   "cell_type": "code",
   "execution_count": null,
   "id": "18e1cb98",
   "metadata": {},
   "outputs": [],
   "source": [
    "## Using LLM through ChatOpenAI\n",
    "## Make sure you have OPENAI_API_KEY set in your environment variables\n",
    "\n",
    "llm = ChatOpenAI(model=\"gpt-4o-mini\")"
   ]
  },
  {
   "cell_type": "code",
   "execution_count": null,
   "id": "88294886",
   "metadata": {},
   "outputs": [],
   "source": [
    "# Invoke the LLM\n",
    "response = llm.invoke(\"What is the capital of Australia?\")\n",
    "print(response.content)"
   ]
  },
  {
   "cell_type": "markdown",
   "id": "18567b38",
   "metadata": {},
   "source": [
    "## Building the Graph\n"
   ]
  },
  {
   "cell_type": "markdown",
   "id": "c8ab1898",
   "metadata": {},
   "source": [
    "**Step 1: Define the state**\n",
    "\n",
    "We need the `add_messages` reducer function so that each state transition will append the previous messages"
   ]
  },
  {
   "cell_type": "code",
   "execution_count": null,
   "id": "ce15eb35",
   "metadata": {},
   "outputs": [],
   "source": [
    "# Step 1: Define the state object \n",
    "# \n",
    "# A state could be represented by either \n",
    "# a `pydantic` model or a simple dictionary like `TypedDict`.\n",
    "\n",
    "class State(TypedDict):\n",
    "    messages: Annotated[list, add_messages]\n"
   ]
  },
  {
   "cell_type": "markdown",
   "id": "1d4eeaaf",
   "metadata": {},
   "source": []
  },
  {
   "cell_type": "markdown",
   "id": "4f275494",
   "metadata": {},
   "source": [
    "**Step 2: Create the graph builder**"
   ]
  },
  {
   "cell_type": "code",
   "execution_count": null,
   "id": "d4623705",
   "metadata": {},
   "outputs": [],
   "source": [
    "# New graph builder\n",
    "state_graph_builder = StateGraph(State)"
   ]
  },
  {
   "cell_type": "markdown",
   "id": "5410e5ce",
   "metadata": {},
   "source": [
    "**Step 3: Create nodes**"
   ]
  },
  {
   "cell_type": "code",
   "execution_count": null,
   "id": "564ff5a6",
   "metadata": {},
   "outputs": [],
   "source": [
    "# A node is represented by a function that takes in the old state and returns a new state\n",
    "def first_node(old_state: State) -> State:\n",
    "    return {\"messages\": [llm.invoke(old_state[\"messages\"])]}\n",
    "\n",
    "\n",
    "# Add this node to the graph\n",
    "state_graph_builder.add_node(first_node)"
   ]
  },
  {
   "cell_type": "markdown",
   "id": "4e96d5ba",
   "metadata": {},
   "source": [
    "**Step 4: Create edges**\n",
    "\n"
   ]
  },
  {
   "cell_type": "code",
   "execution_count": null,
   "id": "fdf4e240",
   "metadata": {},
   "outputs": [],
   "source": [
    "state_graph_builder.add_edge(START, \"first_node\")\n",
    "state_graph_builder.add_edge(\"first_node\", END)"
   ]
  },
  {
   "cell_type": "markdown",
   "id": "a9bf8462",
   "metadata": {},
   "source": [
    "**Step 5: Build the graph**"
   ]
  },
  {
   "cell_type": "code",
   "execution_count": null,
   "id": "b5df8341",
   "metadata": {},
   "outputs": [],
   "source": [
    "graph = state_graph_builder.compile()"
   ]
  },
  {
   "cell_type": "code",
   "execution_count": null,
   "id": "e9bffbf7",
   "metadata": {},
   "outputs": [],
   "source": [
    "# Display the graph\n",
    "display(Image(graph.get_graph().draw_mermaid_png()))"
   ]
  },
  {
   "cell_type": "markdown",
   "id": "d490573a",
   "metadata": {},
   "source": [
    "**Step 6: Run the graph**"
   ]
  },
  {
   "cell_type": "code",
   "execution_count": null,
   "id": "1f340e92",
   "metadata": {},
   "outputs": [],
   "source": [
    "prompt = \"What is the capital of New Zealand?\"\n",
    "initial_state = State(messages=[{\"role\": \"user\", \"content\": prompt}])\n",
    "result = graph.invoke(initial_state)"
   ]
  },
  {
   "cell_type": "code",
   "execution_count": null,
   "id": "6220431e",
   "metadata": {},
   "outputs": [],
   "source": [
    "# Simple message display without JSON\n",
    "for i, msg in enumerate(result[\"messages\"]):\n",
    "    role: str = getattr(msg, 'type', 'unknown')\n",
    "    content: str = getattr(msg, 'content', str(msg))\n",
    "    print(f\"Message {i + 1} ({role}): {content}\")"
   ]
  }
 ],
 "metadata": {
  "kernelspec": {
   "display_name": "ai-learning-python-notebooks",
   "language": "python",
   "name": "python3"
  },
  "language_info": {
   "codemirror_mode": {
    "name": "ipython",
    "version": 3
   },
   "file_extension": ".py",
   "mimetype": "text/x-python",
   "name": "python",
   "nbconvert_exporter": "python",
   "pygments_lexer": "ipython3",
   "version": "3.12.9"
  }
 },
 "nbformat": 4,
 "nbformat_minor": 5
}
