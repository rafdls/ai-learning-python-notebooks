{
 "cells": [
  {
   "cell_type": "markdown",
   "id": "48fb25c2",
   "metadata": {},
   "source": [
    "# MCP Examples\n",
    "\n",
    "MCP server resources:\n",
    "- https://github.com/modelcontextprotocol/servers?tab=readme-ov-file\n",
    "- https://mcp.so\n",
    "- https://glama.ai/mcp\n",
    "- https://smithery.ai/\n",
    "- https://huggingface.co/blog/LLMhacker/top-11-essential-mcp-libraries\n",
    "\n",
    "There are two types of MCP servers:\n",
    "- Running on a local machine\n",
    "- Running on a remote server"
   ]
  },
  {
   "cell_type": "code",
   "execution_count": null,
   "id": "976b68b3",
   "metadata": {},
   "outputs": [],
   "source": [
    "# improts and env setup\n",
    "from agents.mcp import MCPServerStdio\n",
    "from agents import Agent, Runner, trace\n",
    "from dotenv import load_dotenv\n",
    "load_dotenv(override=True)"
   ]
  },
  {
   "cell_type": "markdown",
   "id": "eb60efac",
   "metadata": {},
   "source": [
    "### Running an MCP server in local machine with openai agents sdk\n",
    "\n",
    "We run an MCP server localy by using `MCPServerStdio` from openai-agents SDK. These servers may be launched using `uvx`, `node`, or `docker`, depending on the server implementation"
   ]
  },
  {
   "cell_type": "code",
   "execution_count": null,
   "id": "21f343c3",
   "metadata": {},
   "outputs": [],
   "source": [
    "# Let's see the list of tools provided by `fetch` from Anthropic\n",
    "fetch_parameters = {\"command\": \"uvx\", \"args\": [\"mcp-server-fetch\"]}\n",
    "async with MCPServerStdio(params=fetch_parameters, client_session_timeout_seconds=60) as fetch_server:\n",
    "    fetch_tools_mcp = await fetch_server.list_tools()\n",
    "    print(\"Fetch tools:\", fetch_tools_mcp)\n"
   ]
  },
  {
   "cell_type": "markdown",
   "id": "8d5ac323",
   "metadata": {},
   "source": [
    "### Using tools from MCP by an agent\n",
    "\n",
    "Doing this example may take a while to run."
   ]
  },
  {
   "cell_type": "code",
   "execution_count": null,
   "id": "b85b3bbe",
   "metadata": {},
   "outputs": [],
   "source": [
    "# Run MCP Server STDIO\n",
    "internet_search_agent_instructions = \"\"\"\n",
    "    You are an internet search agent that can fetch and summarize web content.\n",
    "    When given a URL or asked to search for information, use the fetch tool to retrieve web pages.\n",
    "    Always provide a clear, concise summary of the content you find.\n",
    "    If a page is too long, focus on the most relevant information for the user's query.\n",
    "\"\"\"\n",
    "fetch_parameters = {\"command\": \"uvx\", \"args\": [\"mcp-server-fetch\"]}\n",
    "async with MCPServerStdio(params=fetch_parameters, client_session_timeout_seconds=60) as fetch_server:\n",
    "    fetch_tools_mcp = await fetch_server.list_tools()\n",
    "    agent = Agent(\n",
    "        name=\"Internet search agent\",\n",
    "        instructions=internet_search_agent_instructions,\n",
    "        model=\"gpt-4o-mini\",\n",
    "        mcp_servers=[fetch_server],\n",
    "    )\n",
    "    with trace(\"search using fetch tools from MCP\"):\n",
    "        result = await Runner.run(agent, \"Find information on how to lose weight fast\")\n",
    "        print(result.final_output)"
   ]
  }
 ],
 "metadata": {
  "kernelspec": {
   "display_name": "ai-learning-python-notebooks",
   "language": "python",
   "name": "python3"
  },
  "language_info": {
   "codemirror_mode": {
    "name": "ipython",
    "version": 3
   },
   "file_extension": ".py",
   "mimetype": "text/x-python",
   "name": "python",
   "nbconvert_exporter": "python",
   "pygments_lexer": "ipython3",
   "version": "3.12.8"
  }
 },
 "nbformat": 4,
 "nbformat_minor": 5
}
