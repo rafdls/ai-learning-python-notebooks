{
 "cells": [
  {
   "cell_type": "markdown",
   "id": "cc4c0d73",
   "metadata": {},
   "source": [
    "# OpenAI agents SDK\n",
    "\n",
    "These are the basic packages needed to use openai SDK\n",
    "\n",
    "See: https://openai.github.io/openai-agents-python/quickstart/"
   ]
  },
  {
   "cell_type": "markdown",
   "id": "8c86c350",
   "metadata": {
    "vscode": {
     "languageId": "shellscript"
    }
   },
   "source": [
    "## Install openai agents\n",
    "\n",
    "```shell\n",
    "uv add openai-agents\n",
    "```"
   ]
  },
  {
   "cell_type": "code",
   "execution_count": null,
   "id": "fd471ff1",
   "metadata": {},
   "outputs": [],
   "source": [
    "# Import the necessary packages\n",
    "\n",
    "from dotenv import load_dotenv\n",
    "from agents import Agent, Runner, trace"
   ]
  },
  {
   "cell_type": "code",
   "execution_count": null,
   "id": "671b1a42",
   "metadata": {},
   "outputs": [],
   "source": [
    "# Load environment variables from a .env file if present\n",
    "load_dotenv(override=True)"
   ]
  },
  {
   "cell_type": "markdown",
   "id": "e607804f",
   "metadata": {},
   "source": [
    "## Creating Agents"
   ]
  },
  {
   "cell_type": "code",
   "execution_count": null,
   "id": "aae7b904",
   "metadata": {},
   "outputs": [],
   "source": [
    "# OpenAI Agent creation\n",
    "\n",
    "instructions = \"\"\"\n",
    "You are a joke teller. Tell me a joke.\n",
    "\"\"\"\n",
    "model = \"gpt-4o-mini\"\n",
    "\n",
    "agent = Agent(name=\"Jokester\", instructions=instructions, model=model)\n"
   ]
  },
  {
   "cell_type": "code",
   "execution_count": null,
   "id": "ef82660a",
   "metadata": {},
   "outputs": [],
   "source": [
    "# Run the agent\n",
    "\n",
    "prompt = \"Tell a joke about Fruits and Vegetables\"\n",
    "\n",
    "with trace(\"Telling a joke\"):\n",
    "    result = await Runner.run(agent, prompt)\n",
    "    print(result.final_output)"
   ]
  },
  {
   "cell_type": "markdown",
   "id": "f495433c",
   "metadata": {},
   "source": [
    "## Structured outputs via Pydantic\n",
    "\n",
    "Agents can return structured data using Pydantic models instead of plain text. This ensures type safety and consistent output formatting.\n",
    "\n",
    "```shell\n",
    "uv add pydantic\n",
    "```"
   ]
  },
  {
   "cell_type": "code",
   "execution_count": null,
   "id": "8ad3345c",
   "metadata": {},
   "outputs": [],
   "source": [
    "# Define structured output\n",
    "\n",
    "from pydantic import BaseModel\n",
    "\n",
    "class JokeResponse(BaseModel):\n",
    "    joke: str"
   ]
  },
  {
   "cell_type": "code",
   "execution_count": null,
   "id": "a9275f64",
   "metadata": {},
   "outputs": [],
   "source": [
    "# Use structured output as the output type for the agent\n",
    "another_agent = Agent(\n",
    "    name=\"Jokester-2\",\n",
    "    instructions=instructions,\n",
    "    model=model,\n",
    "    output_type=JokeResponse\n",
    ")\n",
    "\n",
    "# Run the agent\n",
    "prompt = \"Tell a joke about software developers\"\n",
    "\n",
    "with trace(\"Telling a joke with structured output\"):\n",
    "    result = await Runner.run(another_agent, prompt)\n",
    "    print(result.final_output)"
   ]
  },
  {
   "cell_type": "markdown",
   "id": "976dbf08",
   "metadata": {},
   "source": [
    "## Function Tools\n",
    "\n",
    "Agents or LLMs can use tools to be more useful. It connects LLM to data and other functionalities."
   ]
  },
  {
   "cell_type": "code",
   "execution_count": null,
   "id": "3f030c3c",
   "metadata": {},
   "outputs": [],
   "source": [
    "# Use the decorator @function_tool to create a function tool that can be used by an agent\n",
    "\n",
    "from agents import function_tool\n",
    "\n",
    "@function_tool\n",
    "def write_to_file(filename: str = \"output.txt\", content: str = \"\") -> bool:\n",
    "    with open(filename, \"w\") as f:\n",
    "        f.write(content)\n",
    "    return True\n",
    "\n",
    "file_writer_agent = Agent(\n",
    "    name=\"FileWriter\",\n",
    "    instructions=\"You write content to a file. Use the tool to write to a file.\",\n",
    "    model=\"gpt-4o-mini\",\n",
    "    tools=[write_to_file]\n",
    ")\n",
    "\n",
    "# Run the agent\n",
    "prompt = \"Write 'Hello, World!' to a file named hello.txt\"\n",
    "with trace(\"Writing to a file using an agent\"):\n",
    "    result = await Runner.run(file_writer_agent, prompt)\n",
    "    print(result.final_output)"
   ]
  },
  {
   "cell_type": "markdown",
   "id": "8ce53633",
   "metadata": {},
   "source": [
    "## Agents interacting with each other\n",
    "\n",
    "Agents can collaborate through multiple interaction patterns:\n",
    "\n",
    "- Manual interaction: Explicitly pass outputs between agents\n",
    "- Tool-based interaction: One agent uses another as a function tool\n",
    "- Handoffs: Structured transfer of control between agents\n",
    "\n",
    "Each approach offers different levels of control and automation for multi-agent workflows."
   ]
  },
  {
   "cell_type": "markdown",
   "id": "ae8098bd",
   "metadata": {},
   "source": [
    "### Manual agent interaction"
   ]
  },
  {
   "cell_type": "code",
   "execution_count": null,
   "id": "cfb2d882",
   "metadata": {},
   "outputs": [],
   "source": [
    "# Direct agent interaction\n",
    "\n",
    "from pydantic import BaseModel\n",
    "\n",
    "class CritiqueResponse(BaseModel):\n",
    "    joke: str\n",
    "    score: int\n",
    "    explanation: str\n",
    "\n",
    "\n",
    "critic_agent: Agent[CritiqueResponse] = Agent(\n",
    "    name=\"Critic\",\n",
    "    instructions=\"You are a joke critique. You judge jokes based on how funny they are on a scale of 1 to 10. You must always provide a score and a short explanation. You also explain how why a joke is funny or not funny. The input to you is a joke.\",\n",
    "    model=\"gpt-4o-mini\",\n",
    "    output_type=CritiqueResponse\n",
    ")\n",
    "\n",
    "joker_agent = Agent(\n",
    "    name=\"Jokester\",\n",
    "    instructions=\"You tell jokes. It may or may not be funny and it's up to you to decide. Make sure that jokes are not offensive.\",\n",
    "    model=\"gpt-4o-mini\"\n",
    ")\n",
    "\n",
    "prompt = \"Tell a random joke about planets\"\n",
    "\n",
    "with trace(\"Joke and Critique Handoff\"):\n",
    "    joke = await Runner.run(joker_agent, prompt)\n",
    "    print(\"Joke:\", joke.final_output)\n",
    "    result = await Runner.run(critic_agent, joke.final_output)\n",
    "    critique: CritiqueResponse = result.final_output\n",
    "    print(\"Critique:\", critique.model_dump_json(indent=2))\n",
    "\n",
    "\n"
   ]
  },
  {
   "cell_type": "markdown",
   "id": "9f97ec69",
   "metadata": {},
   "source": [
    "### Agent as a tool"
   ]
  },
  {
   "cell_type": "code",
   "execution_count": null,
   "id": "682e984f",
   "metadata": {},
   "outputs": [],
   "source": [
    "from agents import function_tool\n",
    "\n",
    "@function_tool\n",
    "def write_to_file(filename: str = \"output.txt\", content: str = \"\") -> bool:\n",
    "    with open(filename, \"w\") as f:\n",
    "        f.write(content)\n",
    "    return True\n",
    "\n",
    "file_writer_agent = Agent(\n",
    "    name=\"FileWriter\",\n",
    "    instructions=\"You write content to a file. Use the tool to write to a file.\",\n",
    "    model=\"gpt-4o-mini\",\n",
    "    tools=[write_to_file]\n",
    ")\n",
    "\n",
    "file_writer_agent_as_tool = file_writer_agent.as_tool(\n",
    "    tool_name=\"FileWriterTool\",\n",
    "    tool_description=\"Use this tool to write content to a file. It has two parameters: filename and content. Filename is the name of the file to write to. Content is the content to write to the file. Both parameters are required.\"\n",
    ")\n",
    "joker_agent = Agent(\n",
    "    name=\"Jokester\",\n",
    "    instructions=\"You tell jokes. It may or may not be funny and it's up to you to decide. Make sure that jokes are not offensive.\",\n",
    "    tools=[file_writer_agent_as_tool],\n",
    "    model=\"gpt-4o-mini\"\n",
    ")\n",
    "\n",
    "prompt = \"Tell a random joke about planets and write it to a file called joke.txt\"\n",
    "with trace(\"Joke and File Writing\"):\n",
    "    result = await Runner.run(joker_agent, prompt)\n",
    "    print(result.final_output)\n",
    "\n"
   ]
  },
  {
   "cell_type": "markdown",
   "id": "618e8d04",
   "metadata": {},
   "source": [
    "## Agent handoffs\n",
    "\n",
    "Agent handoffs enable structured transfer of control between agents during a conversation. Unlike manual interaction where you explicitly coordinate agents, handoffs allow an agent to automatically transfer the conversation to another agent when specific conditions are met. This creates seamless multi-agent workflows where agents can specialize in different tasks and collaborate autonomously."
   ]
  },
  {
   "cell_type": "code",
   "execution_count": null,
   "id": "96330ed2",
   "metadata": {},
   "outputs": [],
   "source": [
    "from agents import Agent, Runner, trace\n",
    "from pydantic import BaseModel\n",
    "\n",
    "class JokeEvaluation(BaseModel):\n",
    "    joke: str\n",
    "    is_appropriate: bool\n",
    "    needs_improvement: bool\n",
    "    feedback: str\n",
    "    \n",
    "\n",
    "# Create a joke evaluator agent\n",
    "joke_evaluator = Agent(\n",
    "    name=\"JokeEvaluator\", \n",
    "    instructions=\"You evaluate jokes for appropriateness and quality. If a joke is inappropriate or needs improvement, provide feedback.\",\n",
    "    model=\"gpt-4o-mini\",\n",
    "    output_type=JokeEvaluation,\n",
    "    handoff_description=\"Evaluate a joke.\",\n",
    ")\n",
    "\n",
    "# Create a joke generator agent\n",
    "joke_generator = Agent(\n",
    "    name=\"JokeGenerator\",\n",
    "    instructions=\"You generate jokes based on user requests. Keep them clean and appropriate.\",\n",
    "    model=\"gpt-4o-mini\",\n",
    "    handoffs=[joke_evaluator]\n",
    ")\n",
    "\n",
    "prompt = \"Generate a joke about programming. Always evaluate it for appropriateness and quality.\"\n",
    "\n",
    "with trace(\"Joke Creation with Handoffs\"):\n",
    "    result = await Runner.run(joke_generator, prompt)\n",
    "    print(result.final_output)"
   ]
  }
 ],
 "metadata": {
  "kernelspec": {
   "display_name": "python-notebook-testing",
   "language": "python",
   "name": "python3"
  },
  "language_info": {
   "codemirror_mode": {
    "name": "ipython",
    "version": 3
   },
   "file_extension": ".py",
   "mimetype": "text/x-python",
   "name": "python",
   "nbconvert_exporter": "python",
   "pygments_lexer": "ipython3",
   "version": "3.12.8"
  }
 },
 "nbformat": 4,
 "nbformat_minor": 5
}
